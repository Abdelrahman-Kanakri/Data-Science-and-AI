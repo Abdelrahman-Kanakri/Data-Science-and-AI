{
 "cells": [
  {
   "cell_type": "code",
   "execution_count": null,
   "id": "4453297c-fdc4-4ff4-8aba-6332feaad6cc",
   "metadata": {},
   "outputs": [],
   "source": [
    "import pandas as pd\n",
    "import numpy as np"
   ]
  },
  {
   "cell_type": "code",
   "execution_count": null,
   "id": "93ab47d7-3854-41d2-9c9f-086692956cec",
   "metadata": {},
   "outputs": [],
   "source": [
    "# Initialize the DataFrame\n",
    "ai = pd.DataFrame(columns=[\n",
    "    \"course_id\",\n",
    "    \"dept_id\",\n",
    "    \"course_name\",\n",
    "    \"course_desc\",\n",
    "    \"prerequisite_name\",\n",
    "    \"prerequisite_number\",\n",
    "    \"requirement_type\",\n",
    "    \"number_of_hours\"\n",
    "])\n",
    "\n",
    "\n",
    "\n",
    "# Initialize the DataFrame\n",
    "cys = pd.DataFrame(columns=[\n",
    "    \"course_id\",\n",
    "    \"dept_id\",\n",
    "    \"course_name\",\n",
    "    \"course_desc\",\n",
    "    \"prerequisite_name\",\n",
    "    \"prerequisite_number\",\n",
    "    \"requirement_type\",\n",
    "    \"number_of_hours\"\n",
    "])\n",
    "\n",
    "\n",
    "\n",
    "# Initialize the DataFrame\n",
    "cs = pd.DataFrame(columns=[\n",
    "    \"course_id\",\n",
    "    \"dept_id\",\n",
    "    \"course_name\",\n",
    "    \"course_desc\",\n",
    "    \"prerequisite_name\",\n",
    "    \"prerequisite_number\",\n",
    "    \"requirement_type\",\n",
    "    \"number_of_hours\"\n",
    "])"
   ]
  },
  {
   "cell_type": "code",
   "execution_count": null,
   "id": "3e759a5f-e954-48a5-8f2f-e688e993de28",
   "metadata": {},
   "outputs": [],
   "source": [
    "# Function to enter course information\n",
    "def enter_course_info(df):\n",
    "    \"\"\"\n",
    "    This Enters the departments params and organize it into a dataframe, which can then can be saved into CSV file\n",
    "    \"\"\"\n",
    "    while True:\n",
    "        course_id = input(\"Enter course ID (or 'exit' to finish): \")\n",
    "        if course_id.lower() == 'exit':\n",
    "            break\n",
    "\n",
    "        dept_id = course_id[:3]  # Take the first 3 numbers of the course ID\n",
    "        course_name = input(\"Enter course name: \")\n",
    "        course_desc = input(\"Enter course description: \")\n",
    "        prerequisite_name = input(\"Enter prerequisite name: \")\n",
    "        prerequisite_number = input(\"Enter prerequisite number: \")\n",
    "        requirement_type = input(\"Enter requirement type: \")\n",
    "        number_of_hours = input(\"Enter number of hours: \")\n",
    "\n",
    "        # Append the information to the DataFrame\n",
    "        df.loc[len(ai)] = [\n",
    "            course_id,\n",
    "            dept_id,\n",
    "            course_name,\n",
    "            course_desc,\n",
    "            prerequisite_name,\n",
    "            prerequisite_number,\n",
    "            requirement_type,\n",
    "            number_of_hours\n",
    "        ]\n",
    "\n",
    "# Call the function to enter course information\n",
    "enter_course_info()"
   ]
  },
  {
   "cell_type": "code",
   "execution_count": null,
   "id": "ac8da120-b41f-457f-8cfd-7b8596587f02",
   "metadata": {},
   "outputs": [],
   "source": [
    "def CSV_to_SQL(df):\n",
    "    \"\"\"\n",
    "    This function transfare the python dataframe informations into a SQL script which can be used then in the database entries\n",
    "    \"\"\"\n",
    "    for index, row in df.iterrows():\n",
    "        course_id = row[\"course_id\"]\n",
    "        dept_id = row[\"dept_id\"]\n",
    "        course_name = row[\"course_name\"]\n",
    "        course_desc = row[\"course_desc\"]\n",
    "        prerequisite_name = row[\"prerequisite_name\"]\n",
    "        prerequisite_number = row[\"prerequisite_number\"]\n",
    "        requirement_type = row[\"requirement_type\"]\n",
    "        number_of_hours = row[\"number_of_hours\"]\n",
    "\n",
    "        # Handle NULL values for prerequisite_number\n",
    "        if pd.isna(prerequisite_number):\n",
    "            prerequisite_number = \"NULL\"\n",
    "\n",
    "        # Print the row in the specified format\n",
    "        print(f\"({course_id},{dept_id},\\\"{course_name}\\\", \\\"{course_desc}\\\", \\\"{prerequisite_name}\\\", {prerequisite_number}, \\\"{requirement_type}\\\", {number_of_hours}),\")\n"
   ]
  },
  {
   "cell_type": "markdown",
   "id": "9110e347-a741-46e4-bcc1-5748bc5e1fa3",
   "metadata": {},
   "source": [
    "# AI entry"
   ]
  },
  {
   "cell_type": "code",
   "execution_count": null,
   "id": "894e3b23-a86e-4dc6-8508-b6b893e5d5c6",
   "metadata": {},
   "outputs": [],
   "source": [
    "enter_course_info(ai)"
   ]
  },
  {
   "cell_type": "code",
   "execution_count": null,
   "id": "e2541e7e-970a-4333-b184-9e766cb4e102",
   "metadata": {},
   "outputs": [],
   "source": [
    "ai"
   ]
  },
  {
   "cell_type": "code",
   "execution_count": null,
   "id": "d81eeb56-f567-4d75-bab2-85515684bafb",
   "metadata": {},
   "outputs": [],
   "source": [
    "#ai.to_csv(\"ai_.csv\")"
   ]
  },
  {
   "cell_type": "code",
   "execution_count": null,
   "id": "0f0b0300-1f4d-4b0a-a27f-af59b33e9520",
   "metadata": {},
   "outputs": [],
   "source": [
    "AI_df = pd.read_csv(\"ai_.csv\")"
   ]
  },
  {
   "cell_type": "code",
   "execution_count": null,
   "id": "28f30e6c-0c83-4bba-85a4-af40273d6421",
   "metadata": {},
   "outputs": [],
   "source": [
    "(AI_df.iloc[0:5])"
   ]
  },
  {
   "cell_type": "code",
   "execution_count": null,
   "id": "f3320f83-35e1-48ff-966d-3aa358f518e3",
   "metadata": {},
   "outputs": [],
   "source": [
    "CSV_to_SQL(AI_df)"
   ]
  },
  {
   "cell_type": "markdown",
   "id": "a094e479-3d4c-40fa-8ac2-57b58ccb29c9",
   "metadata": {},
   "source": [
    "# Cys Entry"
   ]
  },
  {
   "cell_type": "code",
   "execution_count": null,
   "id": "1fd31805-5f07-4942-9702-020a9e868115",
   "metadata": {},
   "outputs": [],
   "source": [
    "enter_course_info(cys)"
   ]
  },
  {
   "cell_type": "markdown",
   "id": "0ebe72df-00ee-4f71-b036-0f0e3fcea8de",
   "metadata": {},
   "source": [
    "# CS Entry"
   ]
  },
  {
   "cell_type": "code",
   "execution_count": null,
   "id": "7073891a-6729-4b4f-b2a7-6381423f3314",
   "metadata": {},
   "outputs": [],
   "source": [
    "enter_course_info(cs)"
   ]
  }
 ],
 "metadata": {
  "kernelspec": {
   "display_name": "Python 3 (ipykernel)",
   "language": "python",
   "name": "python3"
  },
  "language_info": {
   "codemirror_mode": {
    "name": "ipython",
    "version": 3
   },
   "file_extension": ".py",
   "mimetype": "text/x-python",
   "name": "python",
   "nbconvert_exporter": "python",
   "pygments_lexer": "ipython3",
   "version": "3.12.3"
  }
 },
 "nbformat": 4,
 "nbformat_minor": 5
}
